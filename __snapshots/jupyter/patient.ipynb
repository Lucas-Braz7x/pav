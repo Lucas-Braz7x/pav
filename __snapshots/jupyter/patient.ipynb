{
 "cells": [
  {
   "cell_type": "code",
   "execution_count": 3,
   "metadata": {},
   "outputs": [],
   "source": [
    "# PatientController_Endpoints.ipynb\n",
    "\n",
    "\"\"\"\n",
    "# PatientController API Endpoints\n",
    "\n",
    "Este notebook demonstra o funcionamento de cada endpoint definido no `PatientController`. Vamos explorar os métodos GET, POST, PUT e DELETE.\n",
    "\n",
    "## Introdução\n",
    "\n",
    "O `PatientController` é um controlador RESTful que permite a manipulação de dados de pacientes. Os métodos disponíveis são:\n",
    "\n",
    "- `GET` para obter dados de pacientes.\n",
    "- `POST` para criar novos pacientes.\n",
    "- `PUT` para atualizar dados de pacientes existentes.\n",
    "- `DELETE` para excluir pacientes.\n",
    "\n",
    "Importe as bibliotecas necessárias e configure o ambiente para fazer as requisições.\n",
    "\"\"\"\n",
    "\n",
    "import requests\n",
    "import json\n",
    "\n",
    "# Configuração da URL base da API\n",
    "BASE_URL = \"http://localhost:5000/patients\""
   ]
  },
  {
   "cell_type": "code",
   "execution_count": 16,
   "metadata": {},
   "outputs": [
    {
     "name": "stdout",
     "output_type": "stream",
     "text": [
      "Pacientes\n",
      "{'patients': [{'age': 18, 'cpf': '12345678998', 'historicoMedico': False, 'id': 1, 'name': 'Jão'}, {'age': 40, 'cpf': '12385678998', 'historicoMedico': False, 'id': 2, 'name': 'Joana'}, {'age': 40, 'cpf': '14385678998', 'historicoMedico': False, 'id': 3, 'name': 'Joana Silva'}]}\n"
     ]
    }
   ],
   "source": [
    "\"\"\"\n",
    "## GET Endpoint\n",
    "\n",
    "### Obtendo todos os pacientes\n",
    "\n",
    "Vamos buscar os dados de todos os pacientes\n",
    "\"\"\"\n",
    "def get_patients():\n",
    "    response = requests.get(f\"{BASE_URL}\")\n",
    "    return response.json() if response.status_code == 200 else f\"Error {response.status_code}: {response.text}\"\n",
    "\n",
    "\n",
    "print(f\"Pacientes\")\n",
    "print(get_patients())"
   ]
  },
  {
   "cell_type": "code",
   "execution_count": 24,
   "metadata": {},
   "outputs": [
    {
     "name": "stdout",
     "output_type": "stream",
     "text": [
      "Paciente com ID 1:\n",
      "{'age': 18, 'cpf': '12345678998', 'historicoMedico': False, 'id': 1, 'name': 'Jão'}\n"
     ]
    }
   ],
   "source": [
    "\"\"\"\n",
    "## GET Endpoint\n",
    "\n",
    "### Obtendo um paciente por ID\n",
    "\n",
    "Vamos buscar os dados de um paciente pelo seu ID.\n",
    "\"\"\"\n",
    "def get_patient_by_id(patient_id):\n",
    "    response = requests.get(f\"{BASE_URL}/{patient_id}\")\n",
    "    return response.json() if response.status_code == 200 else f\"Error {response.status_code}: {response.text}\"\n",
    "\n",
    "# Exemplo de uso\n",
    "patient_id = 1\n",
    "print(f\"Paciente com ID {patient_id}:\")\n",
    "print(get_patient_by_id(patient_id))"
   ]
  },
  {
   "cell_type": "code",
   "execution_count": 11,
   "metadata": {},
   "outputs": [
    {
     "name": "stdout",
     "output_type": "stream",
     "text": [
      "Paciente com nome Jão:\n",
      "{'patients': [{'age': 18, 'cpf': '12345678998', 'historicoMedico': False, 'id': 1, 'name': 'Jão'}]}\n"
     ]
    }
   ],
   "source": [
    "\"\"\"\n",
    "### Obtendo um paciente pelo nome\n",
    "\n",
    "Vamos buscar os dados de um paciente pelo seu nome.\n",
    "\"\"\"\n",
    "\n",
    "def get_patient_by_name(name):\n",
    "    response = requests.get(f\"{BASE_URL}/name/{name}\")\n",
    "    return response.json() if response.status_code == 200 else f\"Error {response.status_code}: {response.text}\"\n",
    "\n",
    "# Exemplo de uso\n",
    "name = \"Jão\"\n",
    "print(f\"Paciente com nome {name}:\")\n",
    "print(get_patient_by_name(name))"
   ]
  },
  {
   "cell_type": "code",
   "execution_count": 19,
   "metadata": {},
   "outputs": [
    {
     "name": "stdout",
     "output_type": "stream",
     "text": [
      "Criando um novo paciente:\n",
      "{'age': 40, 'cpf': '15385698998', 'historicoMedico': False, 'id': 5, 'name': 'Joana Silva'}\n"
     ]
    }
   ],
   "source": [
    "\"\"\"\n",
    "## POST Endpoint\n",
    "\n",
    "### Criando um novo paciente\n",
    "\n",
    "Vamos criar um novo paciente enviando um JSON com os dados do paciente.\n",
    "\"\"\"\n",
    "def create_patient(data):\n",
    "    headers = {'Content-Type': 'application/json'}\n",
    "    response = requests.post(BASE_URL, data=json.dumps(data), headers=headers)\n",
    "    return response.json() if response.status_code == 200 or response.status_code == 201 else f\"Error {response.status_code}: {response.text}\"\n",
    "\n",
    "# Exemplo de uso\n",
    "new_patient = {\n",
    "\t\"name\": \"Joana Silva\",\n",
    "    \"age\": 40,\n",
    "    \"cpf\": \"15385698998\",\n",
    "    \"historicoMedico\": False\n",
    "}\n",
    "print(\"Criando um novo paciente:\")\n",
    "print(create_patient(new_patient))\n"
   ]
  },
  {
   "cell_type": "code",
   "execution_count": 25,
   "metadata": {},
   "outputs": [
    {
     "name": "stdout",
     "output_type": "stream",
     "text": [
      "Atualizando paciente com ID 1:\n",
      "{'data': {'age': 27, 'cpf': '12345678998', 'historicoMedico': True, 'id': 1, 'name': 'Jão Braga'}, 'message': None}\n"
     ]
    }
   ],
   "source": [
    "\"\"\"\n",
    "## PUT Endpoint\n",
    "\n",
    "### Atualizando os dados de um paciente existente\n",
    "\n",
    "Vamos atualizar os dados de um paciente existente enviando um JSON com os novos dados.\n",
    "\"\"\"\n",
    "\n",
    "def update_patient(patient_id, data):\n",
    "    headers = {'Content-Type': 'application/json'}\n",
    "    response = requests.put(f\"{BASE_URL}/{patient_id}\", data=json.dumps(data), headers=headers)\n",
    "    \n",
    "    return response.json() if response.status_code == 200 else f\"Error {response.status_code}: {response.text}\"\n",
    "\n",
    "# Exemplo de uso\n",
    "updated_data = {\n",
    "\t\"name\": \"Jão Braga\",\n",
    "    \"age\": 27,\n",
    "    \"cpf\": \"12345678998\",\n",
    "    \"historicoMedico\": True\n",
    "}\n",
    "\n",
    "patient_id = 1\n",
    "print(f\"Atualizando paciente com ID {patient_id}:\")\n",
    "print(update_patient(patient_id, updated_data))"
   ]
  },
  {
   "cell_type": "code",
   "execution_count": 26,
   "metadata": {},
   "outputs": [
    {
     "name": "stdout",
     "output_type": "stream",
     "text": [
      "Excluindo paciente com ID 1:\n",
      "{'message': 'Patient deleted'}\n"
     ]
    }
   ],
   "source": [
    "\"\"\"\n",
    "## DELETE Endpoint\n",
    "\n",
    "### Excluindo um paciente\n",
    "\n",
    "Vamos excluir um paciente pelo seu ID.\n",
    "\"\"\"\n",
    "\n",
    "def delete_patient(patient_id):\n",
    "    response = requests.delete(f\"{BASE_URL}/{patient_id}\")\n",
    "    return response.json() if response.status_code == 200 else f\"Error {response.status_code}: {response.text}\"\n",
    "\n",
    "# Exemplo de uso\n",
    "patient_id = 1\n",
    "print(f\"Excluindo paciente com ID {patient_id}:\")\n",
    "print(delete_patient(patient_id))"
   ]
  }
 ],
 "metadata": {
  "kernelspec": {
   "display_name": "Python 3 (ipykernel)",
   "language": "python",
   "name": "python3"
  },
  "language_info": {
   "codemirror_mode": {
    "name": "ipython",
    "version": 3
   },
   "file_extension": ".py",
   "mimetype": "text/x-python",
   "name": "python",
   "nbconvert_exporter": "python",
   "pygments_lexer": "ipython3",
   "version": "3.10.12"
  }
 },
 "nbformat": 4,
 "nbformat_minor": 4
}
