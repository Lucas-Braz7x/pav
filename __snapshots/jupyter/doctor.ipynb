{
 "cells": [
  {
   "cell_type": "code",
   "execution_count": 4,
   "metadata": {},
   "outputs": [],
   "source": [
    "# PatientController_Endpoints.ipynb\n",
    "\n",
    "\"\"\"\n",
    "# PatientController API Endpoints\n",
    "\"\"\"\n",
    "# DoctorController API Endpoints\n",
    "\n",
    "#Este notebook demonstra o funcionamento de cada endpoint definido no `DoctorController`. Vamos explorar os métodos GET, POST, PUT e DELETE.\n",
    "\n",
    "## Introdução\n",
    "\n",
    "\"\"\"\n",
    "O `DoctorController` é um controlador RESTful que permite a manipulação de dados de médicos. Os métodos disponíveis são:\n",
    "\n",
    "- `GET` para obter dados de médicos.\n",
    "- `POST` para criar novos médicos.\n",
    "- `PUT` para atualizar dados de médicos existentes.\n",
    "- `DELETE` para excluir médicos.\n",
    "\n",
    "Importe as bibliotecas necessárias e configure o ambiente para fazer as requisições.\n",
    "\"\"\"\n",
    "\n",
    "import requests\n",
    "import json\n",
    "\n",
    "# Configuração da URL base da API\n",
    "BASE_URL = \"http://localhost:5000/doctors\""
   ]
  },
  {
   "cell_type": "code",
   "execution_count": 5,
   "metadata": {},
   "outputs": [
    {
     "name": "stdout",
     "output_type": "stream",
     "text": [
      "Médico com ID 1:\n",
      "{'data': {'crm': '46455', 'id': 1, 'name': 'Roberto', 'specialty': 'psychiatrist'}, 'message': None}\n"
     ]
    }
   ],
   "source": [
    "\"\"\"\n",
    "## GET Endpoint\n",
    "\n",
    "### Obtendo um médico por ID\n",
    "\n",
    "Vamos buscar os dados de um médico pelo seu ID.\n",
    "\"\"\"\n",
    "\n",
    "def get_doctor_by_id(doctor_id):\n",
    "    response = requests.get(f\"{BASE_URL}/{doctor_id}\")\n",
    "    if response.status_code == 200:\n",
    "        return response.json()\n",
    "    else:\n",
    "        return f\"Error: {response.status_code}\"\n",
    "\n",
    "# Exemplo de uso\n",
    "doctor_id = 1\n",
    "print(f\"Médico com ID {doctor_id}:\")\n",
    "print(get_doctor_by_id(doctor_id))"
   ]
  },
  {
   "cell_type": "code",
   "execution_count": 9,
   "metadata": {},
   "outputs": [
    {
     "name": "stdout",
     "output_type": "stream",
     "text": [
      "Médico com nome Dr. Smith:\n",
      "{'data': [], 'message': None}\n"
     ]
    }
   ],
   "source": [
    "\"\"\"\n",
    "### Obtendo um médico pelo nome\n",
    "\n",
    "Vamos buscar os dados de um médico pelo seu nome.\n",
    "\"\"\"\n",
    "\n",
    "def get_doctor_by_name(name):\n",
    "    response = requests.get(f\"{BASE_URL}/name/{name}\")\n",
    "    if response.status_code == 200:\n",
    "        return response.json()\n",
    "    else:\n",
    "        return f\"Error: {response.status_code}\"\n",
    "\n",
    "# Exemplo de uso\n",
    "name = \"Dr. Smith\"\n",
    "print(f\"Médico com nome {name}:\")\n",
    "print(get_doctor_by_name(name))"
   ]
  },
  {
   "cell_type": "code",
   "execution_count": 13,
   "metadata": {},
   "outputs": [
    {
     "name": "stdout",
     "output_type": "stream",
     "text": [
      "Criando um novo médico:\n",
      "{'data': {'crm': '464535', 'id': 2, 'name': 'Roberto', 'specialty': 'psychiatrist'}, 'message': 'Doctor created'}\n"
     ]
    }
   ],
   "source": [
    "\"\"\"\n",
    "## POST Endpoint\n",
    "\n",
    "### Criando um novo médico\n",
    "\n",
    "Vamos criar um novo médico enviando um JSON com os dados do médico.\n",
    "\"\"\"\n",
    "\n",
    "def create_doctor(data):\n",
    "    headers = {'Content-Type': 'application/json'}\n",
    "    response = requests.post(BASE_URL, data=json.dumps(data), headers=headers)\n",
    "    return response.json() if response.status_code == 200 else f\"Error {response.status_code}: {response.text}\"\n",
    "\n",
    "# Exemplo de uso\n",
    "new_doctor = {\n",
    "    \"name\": \"Roberto\",\n",
    "    \"specialty\": \"psychiatrist\",\n",
    "    \"crm\": \"464535\"\n",
    "}\n",
    "print(\"Criando um novo médico:\")\n",
    "print(create_doctor(new_doctor))"
   ]
  },
  {
   "cell_type": "code",
   "execution_count": 14,
   "metadata": {},
   "outputs": [
    {
     "name": "stdout",
     "output_type": "stream",
     "text": [
      "Atualizando médico com ID 2:\n",
      "{'data': {'crm': '464535', 'id': 2, 'name': 'Jack', 'specialty': 'psychiatrist'}, 'message': 'Doctor updated'}\n"
     ]
    }
   ],
   "source": [
    "\"\"\"\n",
    "## PUT Endpoint\n",
    "\n",
    "### Atualizando os dados de um médico existente\n",
    "\n",
    "Vamos atualizar os dados de um médico existente enviando um JSON com os novos dados.\n",
    "\"\"\"\n",
    "\n",
    "def update_doctor(doctor_id, data):\n",
    "    headers = {'Content-Type': 'application/json'}\n",
    "    response = requests.put(f\"{BASE_URL}/{doctor_id}\", data=json.dumps(data), headers=headers)\n",
    "    return response.json() if response.status_code == 200 else f\"Error {response.status_code}: {response.text}\"\n",
    "\n",
    "# Exemplo de uso\n",
    "updated_data = {\n",
    "    \"name\": \"Jack\",\n",
    "    \"specialty\": \"psychiatrist\",\n",
    "    \"crm\": \"464535\"\n",
    "}\n",
    "\n",
    "doctor_id = 2\n",
    "print(f\"Atualizando médico com ID {doctor_id}:\")\n",
    "print(update_doctor(doctor_id, updated_data))"
   ]
  },
  {
   "cell_type": "code",
   "execution_count": 15,
   "metadata": {},
   "outputs": [
    {
     "name": "stdout",
     "output_type": "stream",
     "text": [
      "Excluindo médico com ID 2:\n",
      "Error: 200\n"
     ]
    }
   ],
   "source": [
    "\"\"\"\n",
    "## DELETE Endpoint\n",
    "\n",
    "### Excluindo um médico\n",
    "\n",
    "Vamos excluir um médico pelo seu ID.\n",
    "\"\"\"\n",
    "\n",
    "def delete_doctor(doctor_id):\n",
    "    response = requests.delete(f\"{BASE_URL}/{doctor_id}\")\n",
    "    return response.json() if response.status_code == 200 else f\"Error {response.status_code}: {response.text}\"\n",
    "\n",
    "# Exemplo de uso\n",
    "doctor_id = 2\n",
    "print(f\"Excluindo médico com ID {doctor_id}:\")\n",
    "print(delete_doctor(doctor_id))"
   ]
  }
 ],
 "metadata": {
  "kernelspec": {
   "display_name": "Python 3 (ipykernel)",
   "language": "python",
   "name": "python3"
  },
  "language_info": {
   "codemirror_mode": {
    "name": "ipython",
    "version": 3
   },
   "file_extension": ".py",
   "mimetype": "text/x-python",
   "name": "python",
   "nbconvert_exporter": "python",
   "pygments_lexer": "ipython3",
   "version": "3.10.12"
  }
 },
 "nbformat": 4,
 "nbformat_minor": 4
}
