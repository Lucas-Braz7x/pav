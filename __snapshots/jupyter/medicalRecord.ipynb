{
 "cells": [
  {
   "cell_type": "code",
   "execution_count": 6,
   "metadata": {},
   "outputs": [],
   "source": [
    "\"\"\"\n",
    "# MedicalRecordController API Endpoints\n",
    "\n",
    "Este notebook demonstra o funcionamento de cada endpoint definido no `MedicalRecordController`. Vamos explorar os métodos GET, POST, PUT e DELETE.\n",
    "\n",
    "## Introdução\n",
    "\n",
    "O `MedicalRecordController` é um controlador RESTful que permite a manipulação de registros médicos. Os métodos disponíveis são:\n",
    "\n",
    "- `GET` para obter dados de registros médicos.\n",
    "- `POST` para criar novos registros médicos.\n",
    "- `PUT` para atualizar dados de registros médicos existentes.\n",
    "- `DELETE` para excluir registros médicos.\n",
    "\n",
    "Importe as bibliotecas necessárias e configure o ambiente para fazer as requisições.\n",
    "\"\"\"\n",
    "\n",
    "import requests\n",
    "import json\n",
    "\n",
    "# Configuração da URL base da API\n",
    "BASE_URL = \"http://localhost:5000/medical/record\""
   ]
  },
  {
   "cell_type": "code",
   "execution_count": 10,
   "metadata": {},
   "outputs": [
    {
     "name": "stdout",
     "output_type": "stream",
     "text": [
      "Criando Registro médico...\n",
      "{'consultationId': 20, 'diagnosis': 'teste', 'id': 1, 'notes': 'Agendar retorno', 'prescription': 'dipirona'}\n"
     ]
    }
   ],
   "source": [
    "\"\"\"\n",
    "## POST Endpoint\n",
    "\n",
    "### Criando um registro médico\n",
    "\n",
    "\"\"\"\n",
    "\n",
    "def post_medical_record(data):\n",
    "    headers = {'Content-Type': 'application/json'}\n",
    "    response = requests.post(BASE_URL, data=json.dumps(data), headers=headers)\n",
    "    return response.json() if response.status_code == 200 else f\"Error {response.status_code}: {response.text}\"\n",
    "\n",
    "# Exemplo de uso\n",
    "medical_record = {\n",
    "    \"consultationId\": 20,\n",
    "    \"diagnosis\": \"teste\",\n",
    "    \"prescription\": \"dipirona\",\n",
    "    \"notes\": \"Agendar retorno\"\n",
    "}\n",
    "\n",
    "print(f\"Criando Registro médico...\")\n",
    "print(post_medical_record(medical_record))"
   ]
  },
  {
   "cell_type": "code",
   "execution_count": 11,
   "metadata": {},
   "outputs": [
    {
     "name": "stdout",
     "output_type": "stream",
     "text": [
      "Registros médicos\n",
      "{'medicalRecords': [{'consultationId': 20, 'diagnosis': 'teste', 'id': 1, 'notes': 'Agendar retorno', 'prescription': 'dipirona'}]}\n"
     ]
    }
   ],
   "source": [
    "\"\"\"\n",
    "## GET Endpoint\n",
    "\n",
    "### Obtendo todos os registro médico \n",
    "\n",
    "\"\"\"\n",
    "\n",
    "def get_medical_record():\n",
    "    response = requests.get(f\"{BASE_URL}\")\n",
    "    return response.json() if response.status_code == 200 else f\"Error {response.status_code}: {response.text}\"\n",
    "\n",
    "# Exemplo de uso\n",
    "\n",
    "print(f\"Registros médicos\")\n",
    "print(get_medical_record())"
   ]
  },
  {
   "cell_type": "code",
   "execution_count": 14,
   "metadata": {},
   "outputs": [
    {
     "name": "stdout",
     "output_type": "stream",
     "text": [
      "Registro médico com ID 1:\n",
      "{'consultationId': 20, 'diagnosis': 'teste', 'id': 1, 'notes': 'Agendar retorno', 'prescription': 'dipirona'}\n"
     ]
    }
   ],
   "source": [
    "\"\"\"\n",
    "## GET Endpoint\n",
    "\n",
    "### Obtendo um registro médico por ID\n",
    "\n",
    "Vamos buscar os dados de um registro médico pelo seu ID.\n",
    "\"\"\"\n",
    "\n",
    "def get_medical_record_by_id(medical_record_id):\n",
    "    response = requests.get(f\"{BASE_URL}/{medical_record_id}\")\n",
    "    return response.json() if response.status_code == 200 else f\"Error {response.status_code}: {response.text}\"\n",
    "\n",
    "# Exemplo de uso\n",
    "medical_record_id = 1\n",
    "print(f\"Registro médico com ID {medical_record_id}:\")\n",
    "print(get_medical_record_by_id(medical_record_id))"
   ]
  },
  {
   "cell_type": "code",
   "execution_count": 15,
   "metadata": {},
   "outputs": [
    {
     "name": "stdout",
     "output_type": "stream",
     "text": [
      "Atualizando registro médico com ID 1:\n",
      "{'consultationId': 20, 'diagnosis': 'Gripe', 'id': 1, 'notes': 'Repouso absoluto', 'prescription': 'dipirona'}\n"
     ]
    }
   ],
   "source": [
    "\"\"\"\n",
    "## PUT Endpoint\n",
    "\n",
    "### Atualizando os dados de um registro médico existente\n",
    "\n",
    "Vamos atualizar os dados de um registro médico existente enviando um JSON com os novos dados.\n",
    "\"\"\"\n",
    "\n",
    "def update_medical_record(medical_record_id, data):\n",
    "    headers = {'Content-Type': 'application/json'}\n",
    "    response = requests.put(f\"{BASE_URL}/{medical_record_id}\", data=json.dumps(data), headers=headers)\n",
    "    \n",
    "    return response.json() if response.status_code == 200 else f\"Error {response.status_code}: {response.text}\"\n",
    "\n",
    "# Exemplo de uso\n",
    "updated_data = {\n",
    "    \"diagnosis\": \"Gripe\",\n",
    "    \"notes\": \"Repouso absoluto\"\n",
    "}\n",
    "medical_record_id = 1\n",
    "print(f\"Atualizando registro médico com ID {medical_record_id}:\")\n",
    "print(update_medical_record(medical_record_id, updated_data))"
   ]
  },
  {
   "cell_type": "code",
   "execution_count": 16,
   "metadata": {},
   "outputs": [
    {
     "name": "stdout",
     "output_type": "stream",
     "text": [
      "Excluindo registro médico com ID 1:\n",
      "{'message': 'Medical Record deleted'}\n"
     ]
    }
   ],
   "source": [
    "\"\"\"\n",
    "## DELETE Endpoint\n",
    "\n",
    "### Excluindo um registro médico\n",
    "\n",
    "Vamos excluir um registro médico pelo seu ID.\n",
    "\"\"\"\n",
    "\n",
    "def delete_medical_record(medical_record_id):\n",
    "    response = requests.delete(f\"{BASE_URL}/{medical_record_id}\")\n",
    "    return response.json() if response.status_code == 200 else f\"Error {response.status_code}: {response.text}\"\n",
    "\n",
    "# Exemplo de uso\n",
    "medical_record_id = 1\n",
    "print(f\"Excluindo registro médico com ID {medical_record_id}:\")\n",
    "print(delete_medical_record(medical_record_id))"
   ]
  }
 ],
 "metadata": {
  "kernelspec": {
   "display_name": "Python 3 (ipykernel)",
   "language": "python",
   "name": "python3"
  },
  "language_info": {
   "codemirror_mode": {
    "name": "ipython",
    "version": 3
   },
   "file_extension": ".py",
   "mimetype": "text/x-python",
   "name": "python",
   "nbconvert_exporter": "python",
   "pygments_lexer": "ipython3",
   "version": "3.10.12"
  }
 },
 "nbformat": 4,
 "nbformat_minor": 4
}
