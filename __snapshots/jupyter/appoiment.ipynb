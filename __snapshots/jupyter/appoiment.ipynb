{
 "cells": [
  {
   "cell_type": "code",
   "execution_count": 3,
   "metadata": {},
   "outputs": [],
   "source": [
    "\"\"\"\n",
    "# AppointmentController API Endpoints\n",
    "\n",
    "Este notebook demonstra o funcionamento de cada endpoint definido no `AppointmentController`. Vamos explorar os métodos GET, POST, PUT e DELETE.\n",
    "\n",
    "## Introdução\n",
    "\n",
    "O `AppointmentController` é um controlador RESTful que permite a manipulação de agendamentos. Os métodos disponíveis são:\n",
    "\n",
    "- `GET` para obter dados de agendamentos.\n",
    "- `POST` para criar novos agendamentos.\n",
    "- `PUT` para atualizar dados de agendamentos existentes.\n",
    "- `DELETE` para excluir agendamentos.\n",
    "\n",
    "Importe as bibliotecas necessárias e configure o ambiente para fazer as requisições.\n",
    "\"\"\"\n",
    "\n",
    "import requests\n",
    "import json\n",
    "\n",
    "# Configuração da URL base da API\n",
    "BASE_URL = \"http://localhost:5000/appointments\""
   ]
  },
  {
   "cell_type": "code",
   "execution_count": 19,
   "metadata": {},
   "outputs": [
    {
     "name": "stdout",
     "output_type": "stream",
     "text": [
      "Agendamento com ID 8:\n",
      "{'id': 8, 'date': '2024-06-07 06:30:00', 'consultationId': 20}\n"
     ]
    }
   ],
   "source": [
    "\"\"\"\n",
    "## GET Endpoint\n",
    "\n",
    "### Obtendo um agendamento por ID\n",
    "\n",
    "Vamos buscar os dados de um agendamento pelo seu ID.\n",
    "\"\"\"\n",
    "\n",
    "def get_appointment_by_id(appointment_id):\n",
    "    response = requests.get(f\"{BASE_URL}/{appointment_id}\")\n",
    "    return response.json() if response.status_code == 200 else f\"Error {response.status_code}: {response.text}\"\n",
    "\n",
    "# Exemplo de uso\n",
    "appointment_id = 8\n",
    "print(f\"Agendamento com ID {appointment_id}:\")\n",
    "print(get_appointment_by_id(appointment_id))"
   ]
  },
  {
   "cell_type": "code",
   "execution_count": 10,
   "metadata": {},
   "outputs": [
    {
     "name": "stdout",
     "output_type": "stream",
     "text": [
      "Agendamento na data 2024-05-30:\n",
      "{'appointments': [{'id': 2, 'date': '2024-05-30 19:40:00', 'consultationId': None}, {'id': 3, 'date': '2024-05-30 19:40:00', 'consultationId': None}, {'id': 4, 'date': '2024-05-30 19:40:00', 'consultationId': None}, {'id': 5, 'date': '2024-05-30 19:40:00', 'consultationId': None}, {'id': 6, 'date': '2024-05-30 19:40:00', 'consultationId': 14}, {'id': 7, 'date': '2024-05-30 19:40:00', 'consultationId': 20}, {'id': 8, 'date': '2024-05-30 21:43:15.710447', 'consultationId': 22}, {'id': 9, 'date': '2024-05-30 21:43:24.253201', 'consultationId': 23}]}\n"
     ]
    }
   ],
   "source": [
    "\"\"\"\n",
    "### Obtendo um agendamento pela data\n",
    "\n",
    "Vamos buscar os dados de um agendamento pela sua data.\n",
    "\"\"\"\n",
    "\n",
    "def get_appointment_by_date(date):\n",
    "    response = requests.get(f\"{BASE_URL}?date={date}\")\n",
    "    if response.status_code == 200:\n",
    "        return response.json()\n",
    "    else:\n",
    "        return f\"Error: {response.status_code}\"\n",
    "\n",
    "# Exemplo de uso\n",
    "date = \"2024-05-30\"\n",
    "print(f\"Agendamento na data {date}:\")\n",
    "print(get_appointment_by_date(date))"
   ]
  },
  {
   "cell_type": "code",
   "execution_count": 16,
   "metadata": {},
   "outputs": [
    {
     "name": "stdout",
     "output_type": "stream",
     "text": [
      "Criando um novo agendamento:\n",
      "{'consultationId': 20, 'date': '2024-06-30 10:40:00', 'id': 13}\n"
     ]
    }
   ],
   "source": [
    "\"\"\"\n",
    "## POST Endpoint\n",
    "\n",
    "### Criando um novo agendamento\n",
    "\n",
    "Vamos criar um novo agendamento enviando um JSON com os dados do agendamento.\n",
    "\"\"\"\n",
    "\n",
    "def create_appointment(data):\n",
    "    headers = {'Content-Type': 'application/json'}\n",
    "    response = requests.post(BASE_URL, data=json.dumps(data), headers=headers)\n",
    "    return response.json() if response.status_code == 200 else f\"Error {response.status_code}: {response.text}\"\n",
    "\n",
    "# Exemplo de uso\n",
    "new_appointment = {\n",
    "    \"date\": \"2024-06-30 10:40\",\n",
    "    \"consultationId\": 20\n",
    "}\n",
    "print(\"Criando um novo agendamento:\")\n",
    "print(create_appointment(new_appointment))"
   ]
  },
  {
   "cell_type": "code",
   "execution_count": 20,
   "metadata": {},
   "outputs": [
    {
     "name": "stdout",
     "output_type": "stream",
     "text": [
      "Atualizando agendamento com ID 8:\n",
      "{'consultationId': 20, 'date': '2024-06-08 06:30:00', 'id': 8}\n"
     ]
    }
   ],
   "source": [
    "\"\"\"\n",
    "## PUT Endpoint\n",
    "\n",
    "### Atualizando os dados de um agendamento existente\n",
    "\n",
    "Vamos atualizar os dados de um agendamento existente enviando um JSON com os novos dados.\n",
    "\"\"\"\n",
    "\n",
    "def update_appointment(appointment_id, data):\n",
    "    headers = {'Content-Type': 'application/json'}\n",
    "    response = requests.put(f\"{BASE_URL}/{appointment_id}\", data=json.dumps(data), headers=headers)\n",
    "    \n",
    "    return response.json() if response.status_code == 200 else f\"Error {response.status_code}: {response.text}\"\n",
    "\n",
    "# Exemplo de uso\n",
    "updated_data = {\n",
    "    \"consultationId\": 20,\n",
    "\t\"date\": \"2024-06-08 06:30\"\n",
    "}\n",
    "\n",
    "appointment_id = 8\n",
    "\n",
    "print(f\"Atualizando agendamento com ID {appointment_id}:\")\n",
    "print(update_appointment(appointment_id, updated_data))"
   ]
  },
  {
   "cell_type": "code",
   "execution_count": 23,
   "metadata": {},
   "outputs": [
    {
     "name": "stdout",
     "output_type": "stream",
     "text": [
      "Excluindo agendamento com ID 3:\n",
      "{'message': 'appointment deleted'}\n"
     ]
    }
   ],
   "source": [
    "\"\"\"\n",
    "## DELETE Endpoint\n",
    "\n",
    "### Excluindo um agendamento\n",
    "\n",
    "Vamos excluir um agendamento pelo seu ID.\n",
    "\"\"\"\n",
    "\n",
    "def delete_appointment(appointment_id):\n",
    "    response = requests.delete(f\"{BASE_URL}/{appointment_id}\")\n",
    "    return response.json() if response.status_code == 200 else f\"Error {response.status_code}: {response.text}\"\n",
    "\n",
    "# Exemplo de uso\n",
    "appointment_id = 3\n",
    "print(f\"Excluindo agendamento com ID {appointment_id}:\")\n",
    "print(delete_appointment(appointment_id))"
   ]
  }
 ],
 "metadata": {
  "kernelspec": {
   "display_name": "Python 3 (ipykernel)",
   "language": "python",
   "name": "python3"
  },
  "language_info": {
   "codemirror_mode": {
    "name": "ipython",
    "version": 3
   },
   "file_extension": ".py",
   "mimetype": "text/x-python",
   "name": "python",
   "nbconvert_exporter": "python",
   "pygments_lexer": "ipython3",
   "version": "3.10.12"
  }
 },
 "nbformat": 4,
 "nbformat_minor": 4
}
