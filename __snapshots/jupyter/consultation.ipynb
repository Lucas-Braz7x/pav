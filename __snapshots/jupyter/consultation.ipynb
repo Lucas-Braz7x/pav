{
 "cells": [
  {
   "cell_type": "code",
   "execution_count": 5,
   "metadata": {},
   "outputs": [],
   "source": [
    "\"\"\"\n",
    "# ConsultationController API Endpoints\n",
    "\n",
    "Este notebook demonstra o funcionamento de cada endpoint definido no `ConsultationController`. Vamos explorar os métodos GET, POST, PUT e DELETE.\n",
    "\n",
    "## Introdução\n",
    "\n",
    "O `ConsultationController` é um controlador RESTful que permite a manipulação de consultas médicas. Os métodos disponíveis são:\n",
    "\n",
    "- `GET` para obter dados de consultas médicas.\n",
    "- `POST` para criar novas consultas médicas.\n",
    "- `PUT` para atualizar dados de consultas médicas existentes.\n",
    "- `DELETE` para excluir consultas médicas.\n",
    "\n",
    "Importe as bibliotecas necessárias e configure o ambiente para fazer as requisições.\n",
    "\"\"\"\n",
    "\n",
    "import requests\n",
    "import json\n",
    "\n",
    "# Configuração da URL base da API\n",
    "BASE_URL = \"http://localhost:5000/consultations\""
   ]
  },
  {
   "cell_type": "code",
   "execution_count": 6,
   "metadata": {},
   "outputs": [
    {
     "name": "stdout",
     "output_type": "stream",
     "text": [
      "Consulta médica com ID 1:\n",
      "{'appointments': [{'consultationId': 1, 'date': '2024-05-30 19:40:00', 'id': 1}, {'consultationId': 1, 'date': '2024-05-30 19:40:00', 'id': 2}, {'consultationId': 1, 'date': '2024-05-30 19:40:00', 'id': 3}, {'consultationId': 1, 'date': '2024-05-30 19:40:00', 'id': 4}, {'consultationId': 1, 'date': '2024-05-30 19:40:00', 'id': 5}], 'completed': False, 'doctor': {'crm': '46455', 'id': 1, 'name': 'Roberto', 'specialty': 'psychiatrist'}, 'doctorId': 1, 'id': 1, 'medical_records': [], 'patient': {'age': 18, 'cpf': '12345678998', 'historicoMedico': False, 'id': 1, 'name': 'Jão'}, 'patientId': 1}\n"
     ]
    }
   ],
   "source": [
    "\"\"\"\n",
    "## GET Endpoint\n",
    "\n",
    "### Obtendo uma consulta médica por ID\n",
    "\n",
    "Vamos buscar os dados de uma consulta médica pelo seu ID.\n",
    "\"\"\"\n",
    "\n",
    "def get_consultation_by_id(consultation_id):\n",
    "    response = requests.get(f\"{BASE_URL}/{consultation_id}\")\n",
    "    if response.status_code == 200:\n",
    "        return response.json()\n",
    "    else:\n",
    "        return f\"Error: {response.status_code}\"\n",
    "\n",
    "# Exemplo de uso\n",
    "consultation_id = 1\n",
    "print(f\"Consulta médica com ID {consultation_id}:\")\n",
    "print(get_consultation_by_id(consultation_id))"
   ]
  },
  {
   "cell_type": "code",
   "execution_count": 9,
   "metadata": {},
   "outputs": [
    {
     "name": "stdout",
     "output_type": "stream",
     "text": [
      "Consultas médicas do médico Roberto:\n",
      "{'consultations': [{'appointments': [{'consultationId': 1, 'date': '2024-05-30 19:40:00', 'id': 1}, {'consultationId': 1, 'date': '2024-05-30 19:40:00', 'id': 2}, {'consultationId': 1, 'date': '2024-05-30 19:40:00', 'id': 3}, {'consultationId': 1, 'date': '2024-05-30 19:40:00', 'id': 4}, {'consultationId': 1, 'date': '2024-05-30 19:40:00', 'id': 5}], 'completed': False, 'doctor': {'crm': '46455', 'id': 1, 'name': 'Roberto', 'specialty': 'psychiatrist'}, 'doctorId': 1, 'id': 1, 'medical_records': [], 'patient': {'age': 18, 'cpf': '12345678998', 'historicoMedico': False, 'id': 1, 'name': 'Jão'}, 'patientId': 1}, {'appointments': [], 'completed': False, 'doctor': {'crm': '46455', 'id': 1, 'name': 'Roberto', 'specialty': 'psychiatrist'}, 'doctorId': 1, 'id': 2, 'medical_records': [{'consultationId': 2, 'diagnosis': 'teste', 'id': 1, 'notes': 'Agendar retorno', 'prescription': 'dipirona'}], 'patient': {'age': 18, 'cpf': '12345678998', 'historicoMedico': False, 'id': 1, 'name': 'Jão'}, 'patientId': 1}, {'appointments': [], 'completed': False, 'doctor': {'crm': '46455', 'id': 1, 'name': 'Roberto', 'specialty': 'psychiatrist'}, 'doctorId': 1, 'id': 3, 'medical_records': [], 'patient': {'age': 18, 'cpf': '12345678998', 'historicoMedico': False, 'id': 1, 'name': 'Jão'}, 'patientId': 1}, {'appointments': [], 'completed': False, 'doctor': {'crm': '46455', 'id': 1, 'name': 'Roberto', 'specialty': 'psychiatrist'}, 'doctorId': 1, 'id': 4, 'medical_records': [], 'patient': {'age': 18, 'cpf': '12345678998', 'historicoMedico': False, 'id': 1, 'name': 'Jão'}, 'patientId': 1}, {'appointments': [], 'completed': False, 'doctor': {'crm': '46455', 'id': 1, 'name': 'Roberto', 'specialty': 'psychiatrist'}, 'doctorId': 1, 'id': 5, 'medical_records': [], 'patient': {'age': 18, 'cpf': '12345678998', 'historicoMedico': False, 'id': 1, 'name': 'Jão'}, 'patientId': 1}, {'appointments': [], 'completed': False, 'doctor': {'crm': '46455', 'id': 1, 'name': 'Roberto', 'specialty': 'psychiatrist'}, 'doctorId': 1, 'id': 6, 'medical_records': [], 'patient': {'age': 18, 'cpf': '12345678998', 'historicoMedico': False, 'id': 1, 'name': 'Jão'}, 'patientId': 1}, {'appointments': [], 'completed': False, 'doctor': {'crm': '46455', 'id': 1, 'name': 'Roberto', 'specialty': 'psychiatrist'}, 'doctorId': 1, 'id': 7, 'medical_records': [], 'patient': {'age': 18, 'cpf': '12345678998', 'historicoMedico': False, 'id': 1, 'name': 'Jão'}, 'patientId': 1}, {'appointments': [], 'completed': False, 'doctor': {'crm': '46455', 'id': 1, 'name': 'Roberto', 'specialty': 'psychiatrist'}, 'doctorId': 1, 'id': 8, 'medical_records': [], 'patient': {'age': 18, 'cpf': '12345678998', 'historicoMedico': False, 'id': 1, 'name': 'Jão'}, 'patientId': 1}, {'appointments': [], 'completed': False, 'doctor': {'crm': '46455', 'id': 1, 'name': 'Roberto', 'specialty': 'psychiatrist'}, 'doctorId': 1, 'id': 9, 'medical_records': [], 'patient': {'age': 18, 'cpf': '12345678998', 'historicoMedico': False, 'id': 1, 'name': 'Jão'}, 'patientId': 1}, {'appointments': [], 'completed': False, 'doctor': {'crm': '46455', 'id': 1, 'name': 'Roberto', 'specialty': 'psychiatrist'}, 'doctorId': 1, 'id': 10, 'medical_records': [], 'patient': {'age': 18, 'cpf': '12345678998', 'historicoMedico': False, 'id': 1, 'name': 'Jão'}, 'patientId': 1}, {'appointments': [], 'completed': False, 'doctor': {'crm': '46455', 'id': 1, 'name': 'Roberto', 'specialty': 'psychiatrist'}, 'doctorId': 1, 'id': 11, 'medical_records': [], 'patient': {'age': 18, 'cpf': '12345678998', 'historicoMedico': False, 'id': 1, 'name': 'Jão'}, 'patientId': 1}, {'appointments': [], 'completed': False, 'doctor': {'crm': '46455', 'id': 1, 'name': 'Roberto', 'specialty': 'psychiatrist'}, 'doctorId': 1, 'id': 12, 'medical_records': [], 'patient': {'age': 18, 'cpf': '12345678998', 'historicoMedico': False, 'id': 1, 'name': 'Jão'}, 'patientId': 1}, {'appointments': [], 'completed': False, 'doctor': {'crm': '46455', 'id': 1, 'name': 'Roberto', 'specialty': 'psychiatrist'}, 'doctorId': 1, 'id': 13, 'medical_records': [], 'patient': {'age': 18, 'cpf': '12345678998', 'historicoMedico': False, 'id': 1, 'name': 'Jão'}, 'patientId': 1}, {'appointments': [{'consultationId': 14, 'date': '2024-05-30 19:40:00', 'id': 6}], 'completed': False, 'doctor': {'crm': '46455', 'id': 1, 'name': 'Roberto', 'specialty': 'psychiatrist'}, 'doctorId': 1, 'id': 14, 'medical_records': [], 'patient': {'age': 18, 'cpf': '12345678998', 'historicoMedico': False, 'id': 1, 'name': 'Jão'}, 'patientId': 1}]}\n"
     ]
    }
   ],
   "source": [
    "\"\"\"\n",
    "### Obtendo consultas médicas por nome do médico\n",
    "\n",
    "Vamos buscar os dados de consultas médicas pelo nome do médico.\n",
    "\"\"\"\n",
    "\n",
    "def get_consultations_by_doctor_name(doctor_name):\n",
    "    response = requests.get(f\"{BASE_URL}/doctorName/{doctor_name}\")\n",
    "    if response.status_code == 200:\n",
    "        return response.json()\n",
    "    else:\n",
    "        return f\"Error: {response.status_code}\"\n",
    "\n",
    "# Exemplo de uso\n",
    "doctor_name = \"Roberto\"\n",
    "print(f\"Consultas médicas do médico {doctor_name}:\")\n",
    "print(get_consultations_by_doctor_name(doctor_name))\n"
   ]
  },
  {
   "cell_type": "code",
   "execution_count": 13,
   "metadata": {},
   "outputs": [
    {
     "name": "stdout",
     "output_type": "stream",
     "text": [
      "Criando uma nova consulta médica:\n",
      "Error 201: {\n",
      "  \"appointments\": [\n",
      "    {\n",
      "      \"consultationId\": 23,\n",
      "      \"date\": \"2024-05-30 21:43:24.253201\",\n",
      "      \"id\": 9\n",
      "    }\n",
      "  ],\n",
      "  \"completed\": false,\n",
      "  \"doctor\": {\n",
      "    \"crm\": \"46455\",\n",
      "    \"id\": 1,\n",
      "    \"name\": \"Roberto\",\n",
      "    \"specialty\": \"psychiatrist\"\n",
      "  },\n",
      "  \"doctorId\": 1,\n",
      "  \"id\": 23,\n",
      "  \"medical_records\": [],\n",
      "  \"patient\": {\n",
      "    \"age\": 18,\n",
      "    \"cpf\": \"12345678998\",\n",
      "    \"historicoMedico\": false,\n",
      "    \"id\": 1,\n",
      "    \"name\": \"J\\u00e3o\"\n",
      "  },\n",
      "  \"patientId\": 1\n",
      "}\n",
      "\n"
     ]
    }
   ],
   "source": [
    "\"\"\"\n",
    "## POST Endpoint\n",
    "\n",
    "### Criando uma nova consulta médica\n",
    "\n",
    "Vamos criar uma nova consulta médica enviando um JSON com os dados da consulta.\n",
    "\"\"\"\n",
    "\n",
    "def create_consultation(data):\n",
    "    headers = {'Content-Type': 'application/json'}\n",
    "    response = requests.post(BASE_URL, data=json.dumps(data), headers=headers)\n",
    "    \n",
    "    return response.json() if response.status_code == 200 else f\"Error {response.status_code}: {response.text}\"\n",
    "\n",
    "# Exemplo de uso\n",
    "new_consultation = {\n",
    "    \"completed\": False,\n",
    "    \"patientId\": 1,\n",
    "    \"doctorId\": 1\n",
    "}\n",
    "print(\"Criando uma nova consulta médica:\")\n",
    "print(create_consultation(new_consultation))"
   ]
  },
  {
   "cell_type": "code",
   "execution_count": 15,
   "metadata": {},
   "outputs": [
    {
     "name": "stdout",
     "output_type": "stream",
     "text": [
      "Atualizando consulta médica com ID 1:\n",
      "{'appointments': [{'consultationId': 1, 'date': '2024-05-30 19:40:00', 'id': 1}, {'consultationId': 1, 'date': '2024-05-30 19:40:00', 'id': 2}, {'consultationId': 1, 'date': '2024-05-30 19:40:00', 'id': 3}, {'consultationId': 1, 'date': '2024-05-30 19:40:00', 'id': 4}, {'consultationId': 1, 'date': '2024-05-30 19:40:00', 'id': 5}], 'completed': True, 'doctor': {'crm': '46455', 'id': 1, 'name': 'Roberto', 'specialty': 'psychiatrist'}, 'doctorId': 1, 'id': 1, 'medical_records': [], 'patient': {'age': 18, 'cpf': '12345678998', 'historicoMedico': False, 'id': 1, 'name': 'Jão'}, 'patientId': 1}\n"
     ]
    }
   ],
   "source": [
    "\"\"\"\n",
    "## PUT Endpoint\n",
    "\n",
    "### Atualizando os dados de uma consulta médica existente\n",
    "\n",
    "Vamos atualizar os dados de uma consulta médica existente enviando um JSON com os novos dados.\n",
    "\"\"\"\n",
    "\n",
    "def update_consultation(consultation_id, data):\n",
    "    headers = {'Content-Type': 'application/json'}\n",
    "    response = requests.put(f\"{BASE_URL}/{consultation_id}\", data=json.dumps(data), headers=headers)\n",
    "    return response.json() if response.status_code == 200 else f\"Error {response.status_code}: {response.text}\"\n",
    "\n",
    "# Exemplo de uso\n",
    "updated_data = {\n",
    "    \"completed\": True,\n",
    "    \"patientId\": 1,\n",
    "    \"doctorId\": 1\n",
    "}\n",
    "consultation_id = 1\n",
    "print(f\"Atualizando consulta médica com ID {consultation_id}:\")\n",
    "print(update_consultation(consultation_id, updated_data))"
   ]
  },
  {
   "cell_type": "code",
   "execution_count": 19,
   "metadata": {},
   "outputs": [
    {
     "name": "stdout",
     "output_type": "stream",
     "text": [
      "Excluindo consulta médica com ID 2:\n",
      "{'message': 'Consultation deleted'}\n"
     ]
    }
   ],
   "source": [
    "\"\"\"\n",
    "## DELETE Endpoint\n",
    "\n",
    "### Excluindo uma consulta médica\n",
    "\n",
    "Vamos excluir uma consulta médica pelo seu ID.\n",
    "\"\"\"\n",
    "\n",
    "def delete_consultation(consultation_id):\n",
    "    response = requests.delete(f\"{BASE_URL}/{consultation_id}\")\n",
    "    return response.json() if response.status_code == 200 else f\"Error {response.status_code}: {response.text}\"\n",
    "\n",
    "# Exemplo de uso\n",
    "consultation_id = 2\n",
    "print(f\"Excluindo consulta médica com ID {consultation_id}:\")\n",
    "print(delete_consultation(consultation_id))"
   ]
  }
 ],
 "metadata": {
  "kernelspec": {
   "display_name": "Python 3 (ipykernel)",
   "language": "python",
   "name": "python3"
  },
  "language_info": {
   "codemirror_mode": {
    "name": "ipython",
    "version": 3
   },
   "file_extension": ".py",
   "mimetype": "text/x-python",
   "name": "python",
   "nbconvert_exporter": "python",
   "pygments_lexer": "ipython3",
   "version": "3.10.12"
  }
 },
 "nbformat": 4,
 "nbformat_minor": 4
}
